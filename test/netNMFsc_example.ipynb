{
 "cells": [
  {
   "cell_type": "markdown",
   "metadata": {},
   "source": [
    "### 1. Import netNMFsc and initialize an operator using either netNMFGD or netNMFMU"
   ]
  },
  {
   "cell_type": "code",
   "execution_count": 24,
   "metadata": {},
   "outputs": [
    {
     "name": "stdout",
     "output_type": "stream",
     "text": [
      "The autoreload extension is already loaded. To reload it, use:\n",
      "  %reload_ext autoreload\n",
      "The autotime extension is already loaded. To reload it, use:\n",
      "  %reload_ext autotime\n",
      "time: 2.49 ms (started: 2021-02-16 10:59:40 -05:00)\n"
     ]
    }
   ],
   "source": [
    "%load_ext autoreload\n",
    "%autoreload 2\n",
    "%matplotlib inline \n",
    "%load_ext autotime\n",
    "import netNMFsc\n",
    "import numpy as np\n",
    "import matplotlib.pyplot as plt\n",
    "import scipy.io\n",
    "import time as t\n",
    "dimensions = 5\n",
    "n_inits = 1\n",
    "max_iters = 1000000\n",
    "tol = 1e-2\n",
    "n_jobs = 1\n",
    "# Gradient descent operator (generally performs significantly faster than multiplicative update)\n",
    "operator = netNMFsc.netNMFGD(d=dimensions, n_inits=n_inits, max_iter=max_iters, n_jobs=n_jobs,distance='frobenius')\n",
    "# alternatively can use multiplicative update operator:\n",
    "# operator = netNMFMU(d=dimensions, alpha=alpha, n_inits=n_inits, tol=tol, max_iter=max_iters, n_jobs=n_jobs)"
   ]
  },
  {
   "cell_type": "markdown",
   "metadata": {},
   "source": [
    "### 1. Import gene expression matrix and gene names"
   ]
  },
  {
   "cell_type": "markdown",
   "metadata": {},
   "source": [
    "If expression data is from 10X genomics and is contained in a folder containing matrix.mtx,barcodes.tsv, and genes.tsv or a hdf5 file, data can be loaded automatically using:"
   ]
  },
  {
   "cell_type": "code",
   "execution_count": 97,
   "metadata": {},
   "outputs": [
    {
     "ename": "AttributeError",
     "evalue": "'NoneType' object has no attribute 'endswith'",
     "output_type": "error",
     "traceback": [
      "\u001b[0;31m---------------------------------------------------------------------------\u001b[0m",
      "\u001b[0;31mAttributeError\u001b[0m                            Traceback (most recent call last)",
      "\u001b[0;32m<ipython-input-97-95b3338be6d9>\u001b[0m in \u001b[0;36m<module>\u001b[0;34m\u001b[0m\n\u001b[1;32m      4\u001b[0m \u001b[0;31m# the folder containing matrix.mtx and genes.tsv\u001b[0m\u001b[0;34m\u001b[0m\u001b[0;34m\u001b[0m\u001b[0;34m\u001b[0m\u001b[0m\n\u001b[1;32m      5\u001b[0m \u001b[0mtenXdir\u001b[0m\u001b[0;34m=\u001b[0m\u001b[0;32mNone\u001b[0m\u001b[0;34m\u001b[0m\u001b[0;34m\u001b[0m\u001b[0m\n\u001b[0;32m----> 6\u001b[0;31m \u001b[0moperator\u001b[0m\u001b[0;34m.\u001b[0m\u001b[0mload_10X\u001b[0m\u001b[0;34m(\u001b[0m\u001b[0mdirec\u001b[0m\u001b[0;34m=\u001b[0m\u001b[0mtenXdir\u001b[0m\u001b[0;34m,\u001b[0m\u001b[0mgenome\u001b[0m\u001b[0;34m=\u001b[0m\u001b[0mgenome\u001b[0m\u001b[0;34m)\u001b[0m\u001b[0;34m\u001b[0m\u001b[0;34m\u001b[0m\u001b[0m\n\u001b[0m",
      "\u001b[0;32m~/ExtraDrive1/External/experiments/r2rilsexperiment/netnmfsc/netNMF-sc/netNMFsc/classes.py\u001b[0m in \u001b[0;36mload_10X\u001b[0;34m(self, direc, genome)\u001b[0m\n\u001b[1;32m    147\u001b[0m \u001b[0;34m\u001b[0m\u001b[0m\n\u001b[1;32m    148\u001b[0m     \u001b[0;32mdef\u001b[0m \u001b[0mload_10X\u001b[0m\u001b[0;34m(\u001b[0m\u001b[0mself\u001b[0m\u001b[0;34m,\u001b[0m\u001b[0mdirec\u001b[0m\u001b[0;34m=\u001b[0m\u001b[0;32mNone\u001b[0m\u001b[0;34m,\u001b[0m\u001b[0mgenome\u001b[0m\u001b[0;34m=\u001b[0m\u001b[0;34m'mm10'\u001b[0m\u001b[0;34m)\u001b[0m\u001b[0;34m:\u001b[0m\u001b[0;34m\u001b[0m\u001b[0;34m\u001b[0m\u001b[0m\n\u001b[0;32m--> 149\u001b[0;31m         \u001b[0;32mif\u001b[0m \u001b[0mdirec\u001b[0m\u001b[0;34m.\u001b[0m\u001b[0mendswith\u001b[0m\u001b[0;34m(\u001b[0m\u001b[0;34m'hdf5'\u001b[0m\u001b[0;34m)\u001b[0m \u001b[0;32mor\u001b[0m \u001b[0mdirec\u001b[0m\u001b[0;34m.\u001b[0m\u001b[0mendswith\u001b[0m\u001b[0;34m(\u001b[0m\u001b[0;34m'h5'\u001b[0m\u001b[0;34m)\u001b[0m\u001b[0;34m:\u001b[0m\u001b[0;34m\u001b[0m\u001b[0;34m\u001b[0m\u001b[0m\n\u001b[0m\u001b[1;32m    150\u001b[0m             \u001b[0mX\u001b[0m\u001b[0;34m,\u001b[0m\u001b[0mgenenames\u001b[0m \u001b[0;34m=\u001b[0m \u001b[0mutils\u001b[0m\u001b[0;34m.\u001b[0m\u001b[0mimport_10X_hdf5\u001b[0m\u001b[0;34m(\u001b[0m\u001b[0mdirec\u001b[0m\u001b[0;34m,\u001b[0m\u001b[0mgenome\u001b[0m\u001b[0;34m)\u001b[0m\u001b[0;34m\u001b[0m\u001b[0;34m\u001b[0m\u001b[0m\n\u001b[1;32m    151\u001b[0m         \u001b[0;32melse\u001b[0m\u001b[0;34m:\u001b[0m\u001b[0;34m\u001b[0m\u001b[0;34m\u001b[0m\u001b[0m\n",
      "\u001b[0;31mAttributeError\u001b[0m: 'NoneType' object has no attribute 'endswith'"
     ]
    },
    {
     "name": "stdout",
     "output_type": "stream",
     "text": [
      "time: 10.9 ms (started: 2021-02-07 14:58:58 -05:00)\n"
     ]
    }
   ],
   "source": [
    "# if data is in .hdf5 format genome indicates the reference genome (typically 'mm10' or 'hg19')\n",
    "genome=None\n",
    "# if data is in .hdf5 format then teXdir is the .hdf5 file. If not then it is \n",
    "# the folder containing matrix.mtx and genes.tsv\n",
    "tenXdir=None\n",
    "operator.load_10X(direc=tenXdir,genome=genome)"
   ]
  },
  {
   "cell_type": "code",
   "execution_count": 3,
   "metadata": {},
   "outputs": [
    {
     "name": "stdout",
     "output_type": "stream",
     "text": [
      "time: 685 µs (started: 2021-02-16 10:55:26 -05:00)\n"
     ]
    }
   ],
   "source": [
    "data_f = '../generate_data/resampled_netnmfsc.mat'"
   ]
  },
  {
   "cell_type": "code",
   "execution_count": 23,
   "metadata": {
    "scrolled": true
   },
   "outputs": [
    {
     "name": "stdout",
     "output_type": "stream",
     "text": [
      "2700 edges in network\n",
      "network shape is: (100, 100) and number of genes is: 100\n",
      "['22847' '83937' '9855' '51778' '541565' '2979' '90737' '103' '79611'\n",
      " '26277'] gene names are in gene entrez id format\n",
      "time: 2.62 s (started: 2021-02-16 10:58:26 -05:00)\n"
     ]
    }
   ],
   "source": [
    "X = scipy.io.loadmat(data_f)\n",
    "X = list(list(X['X1'])[0])\n",
    "net_path = \"/home/jay/ExtraDrive1/External/experiments/r2rilsexperiment/netnmfsc/netNMF-sc/\"\n",
    "genes = np.load(net_path+'netNMFsc/data/test_genes.npy')\n",
    "operator.genes = genes\n",
    "network_file_name = net_path+'netNMFsc/data/test_network.npy'\n",
    "netgenes_file_name = net_path+'netNMFsc/data/test_netgenes.npy'\n",
    "operator.load_network(net=network_file_name,genenames=netgenes_file_name)\n",
    "print('network shape is:',operator.N.shape, 'and number of genes is:',len(operator.netgenes))\n",
    "print(operator.netgenes[0:10],'gene names are in gene entrez id format')"
   ]
  },
  {
   "cell_type": "code",
   "execution_count": 90,
   "metadata": {},
   "outputs": [
    {
     "name": "stdout",
     "output_type": "stream",
     "text": [
      "time: 1.39 ms (started: 2021-02-18 16:12:30 -05:00)\n"
     ]
    }
   ],
   "source": [
    "inits= scipy.io.loadmat('/home/jay/ExtraDrive1/External/experiments/r2rilsexperiment/laplacian_regularization/boxR2RNNGLS/test/comparisons/runtime/smooth_initialization_objectives_large.mat')"
   ]
  },
  {
   "cell_type": "code",
   "execution_count": 91,
   "metadata": {},
   "outputs": [
    {
     "data": {
      "text/plain": [
       "{'__header__': b'MATLAB 5.0 MAT-file, Platform: GLNXA64, Created on: Thu Feb 18 16:12:24 2021',\n",
       " '__version__': '1.0',\n",
       " '__globals__': [],\n",
       " 'H0': array([[0.        , 0.23009844, 1.17299965, 2.20890349, 0.15794735],\n",
       "        [1.44833584, 2.09817085, 0.08201008, 0.        , 0.        ],\n",
       "        [0.61016618, 0.        , 0.53988085, 0.09648339, 2.8212544 ],\n",
       "        ...,\n",
       "        [1.3406529 , 0.        , 1.61982227, 0.        , 0.66368728],\n",
       "        [0.45257304, 1.40530303, 0.        , 0.        , 2.29834023],\n",
       "        [0.12086626, 0.34222769, 1.06376259, 1.79368821, 0.        ]]),\n",
       " 'W0': array([[0.4742658 , 0.23644491, 0.09520452, 0.20118595, 0.11624056],\n",
       "        [0.51119831, 0.35940922, 0.23072655, 0.65503551, 0.22196988],\n",
       "        [0.52529217, 0.35722416, 0.20764817, 0.30235174, 0.46992086],\n",
       "        [0.        , 0.248883  , 0.18223788, 0.40747085, 0.30470034],\n",
       "        [0.29768717, 0.28187441, 0.05394283, 0.57212969, 0.16575823],\n",
       "        [0.25409709, 0.23091271, 0.23885098, 0.27144428, 0.17984154],\n",
       "        [0.39244758, 0.42529988, 0.42901613, 0.40207836, 0.30897756],\n",
       "        [0.34695494, 0.01852692, 0.32722082, 0.        , 0.27593765],\n",
       "        [0.22624114, 0.42894923, 0.48672741, 0.3572169 , 0.40983534],\n",
       "        [0.33698883, 0.25200797, 0.15587351, 0.47186066, 0.02528084],\n",
       "        [0.52264245, 0.16736805, 0.13420314, 0.37690762, 0.15534402],\n",
       "        [0.29190701, 0.09392399, 0.37827187, 0.61009909, 0.27341768],\n",
       "        [0.58681978, 0.50259232, 0.38552307, 0.33043965, 0.17427982],\n",
       "        [0.48635176, 0.32917088, 0.43289609, 0.3840335 , 0.04322872],\n",
       "        [0.36715673, 0.17067245, 0.42188818, 0.12379867, 0.34695916],\n",
       "        [0.47784428, 0.32083374, 0.38395502, 0.42789416, 0.2044592 ],\n",
       "        [0.48681247, 0.70301121, 0.44142347, 0.37142892, 0.19849039],\n",
       "        [0.24918517, 0.43417828, 0.10520174, 0.30675802, 0.62636973],\n",
       "        [0.5846051 , 0.32588436, 0.42004891, 0.1555692 , 0.16694194],\n",
       "        [0.33798085, 0.31235101, 0.11733561, 0.4087248 , 0.42871418],\n",
       "        [0.35172511, 0.3388265 , 0.24633042, 0.38402515, 0.32352859],\n",
       "        [0.48945802, 0.18262426, 0.46383502, 0.62041217, 0.31069998],\n",
       "        [0.50622941, 0.28708547, 0.0889903 , 0.34436962, 0.31844697],\n",
       "        [0.42516884, 0.        , 0.27526821, 0.46982995, 0.41764051],\n",
       "        [0.28317052, 0.14157697, 0.22276088, 0.46996769, 0.20877764],\n",
       "        [0.301034  , 0.31819268, 0.3779599 , 0.36782025, 0.34455491],\n",
       "        [0.20855351, 0.42901012, 0.41839378, 0.32395196, 0.08142513],\n",
       "        [0.69961939, 0.19015282, 0.30370172, 0.36094006, 0.47392715],\n",
       "        [0.18457723, 0.46067906, 0.23941549, 0.11965503, 0.23296929],\n",
       "        [0.49865778, 0.17085682, 0.38570235, 0.21449686, 0.12855112],\n",
       "        [0.52438179, 0.39725423, 0.24170401, 0.27514335, 0.22406226],\n",
       "        [0.2238076 , 0.41050449, 0.26748829, 0.35607665, 0.06149029],\n",
       "        [0.51903341, 0.43919402, 0.31176417, 0.29837651, 0.28787803],\n",
       "        [0.5189638 , 0.30128578, 0.25915379, 0.28095021, 0.24934156],\n",
       "        [0.29018306, 0.2844675 , 0.50963093, 0.52703655, 0.24513429],\n",
       "        [0.41777878, 0.41778652, 0.03441779, 0.18206956, 0.265722  ],\n",
       "        [0.25077404, 0.26473294, 0.17907715, 0.38623227, 0.39800096],\n",
       "        [0.27969888, 0.20974168, 0.34442962, 0.25526291, 0.32851611],\n",
       "        [0.39840912, 0.32702679, 0.09185865, 0.31271102, 0.368353  ],\n",
       "        [0.32743633, 0.49849414, 0.37077838, 0.42555071, 0.46807943],\n",
       "        [0.35424113, 0.26221882, 0.5368814 , 0.2229462 , 0.39842682],\n",
       "        [0.37613441, 0.17263005, 0.16824917, 0.3630897 , 0.33935403],\n",
       "        [0.5120227 , 0.17330186, 0.50396718, 0.54808762, 0.39824702],\n",
       "        [0.63760851, 0.45465251, 0.        , 0.55062958, 0.31326955],\n",
       "        [0.2840035 , 0.33759978, 0.23602763, 0.33554224, 0.25008866],\n",
       "        [0.24834585, 0.13789555, 0.40083492, 0.14740702, 0.14407708],\n",
       "        [0.55535577, 0.17818926, 0.29746644, 0.2486255 , 0.24601754],\n",
       "        [0.5164535 , 0.27678041, 0.35288188, 0.36607667, 0.3775794 ],\n",
       "        [0.23737866, 0.21576668, 0.3216503 , 0.48764697, 0.28470536],\n",
       "        [0.3475001 , 0.32187845, 0.27435747, 0.28720447, 0.26544234],\n",
       "        [0.39206765, 0.39240321, 0.17242094, 0.29777053, 0.        ],\n",
       "        [0.36837427, 0.30842262, 0.29081439, 0.39403528, 0.33011818],\n",
       "        [0.40205787, 0.07312221, 0.23197888, 0.49816368, 0.20172434],\n",
       "        [0.47300342, 0.12013386, 0.25881052, 0.3732274 , 0.0040582 ],\n",
       "        [0.5370588 , 0.19783453, 0.47161459, 0.33288522, 0.35182523],\n",
       "        [0.3189327 , 0.30357789, 0.28501047, 0.29769911, 0.49711175],\n",
       "        [0.43148371, 0.38462603, 0.33279354, 0.39594289, 0.16727817],\n",
       "        [0.30504867, 0.40156402, 0.291517  , 0.48908509, 0.15879902],\n",
       "        [0.24327481, 0.34318899, 0.44966589, 0.5278528 , 0.11534257],\n",
       "        [0.41385958, 0.11224857, 0.16330858, 0.34856857, 0.19714573],\n",
       "        [0.39015575, 0.29061745, 0.2883518 , 0.36039654, 0.26457296],\n",
       "        [0.39015575, 0.29061745, 0.2883518 , 0.36039654, 0.26457296],\n",
       "        [0.39015575, 0.29061745, 0.2883518 , 0.36039654, 0.26457296],\n",
       "        [0.39015575, 0.29061745, 0.2883518 , 0.36039654, 0.26457296],\n",
       "        [0.39015575, 0.29061745, 0.2883518 , 0.36039654, 0.26457296],\n",
       "        [0.39015575, 0.29061745, 0.2883518 , 0.36039654, 0.26457296],\n",
       "        [0.39015575, 0.29061745, 0.2883518 , 0.36039654, 0.26457296],\n",
       "        [0.39015575, 0.29061745, 0.2883518 , 0.36039654, 0.26457296],\n",
       "        [0.39015575, 0.29061745, 0.2883518 , 0.36039654, 0.26457296],\n",
       "        [0.39015575, 0.29061745, 0.2883518 , 0.36039654, 0.26457296],\n",
       "        [0.39015575, 0.29061745, 0.2883518 , 0.36039654, 0.26457296],\n",
       "        [0.39015575, 0.29061745, 0.2883518 , 0.36039654, 0.26457296],\n",
       "        [0.39015575, 0.29061745, 0.2883518 , 0.36039654, 0.26457296],\n",
       "        [0.39015575, 0.29061745, 0.2883518 , 0.36039654, 0.26457296],\n",
       "        [0.39015575, 0.29061745, 0.2883518 , 0.36039654, 0.26457296],\n",
       "        [0.39015575, 0.29061745, 0.2883518 , 0.36039654, 0.26457296],\n",
       "        [0.39015575, 0.29061745, 0.2883518 , 0.36039654, 0.26457296],\n",
       "        [0.39015575, 0.29061745, 0.2883518 , 0.36039654, 0.26457296],\n",
       "        [0.39015575, 0.29061745, 0.2883518 , 0.36039654, 0.26457296],\n",
       "        [0.39015575, 0.29061745, 0.2883518 , 0.36039654, 0.26457296],\n",
       "        [0.39015575, 0.29061745, 0.2883518 , 0.36039654, 0.26457296],\n",
       "        [0.39015575, 0.29061745, 0.2883518 , 0.36039654, 0.26457296],\n",
       "        [0.39015575, 0.29061745, 0.2883518 , 0.36039654, 0.26457296],\n",
       "        [0.39015575, 0.29061745, 0.2883518 , 0.36039654, 0.26457296],\n",
       "        [0.39015575, 0.29061745, 0.2883518 , 0.36039654, 0.26457296],\n",
       "        [0.39015575, 0.29061745, 0.2883518 , 0.36039654, 0.26457296],\n",
       "        [0.39015575, 0.29061745, 0.2883518 , 0.36039654, 0.26457296],\n",
       "        [0.39015575, 0.29061745, 0.2883518 , 0.36039654, 0.26457296],\n",
       "        [0.39015575, 0.29061745, 0.2883518 , 0.36039654, 0.26457296],\n",
       "        [0.39015575, 0.29061745, 0.2883518 , 0.36039654, 0.26457296],\n",
       "        [0.39015575, 0.29061745, 0.2883518 , 0.36039654, 0.26457296],\n",
       "        [0.39015575, 0.29061745, 0.2883518 , 0.36039654, 0.26457296],\n",
       "        [0.39015575, 0.29061745, 0.2883518 , 0.36039654, 0.26457296],\n",
       "        [0.39015575, 0.29061745, 0.2883518 , 0.36039654, 0.26457296],\n",
       "        [0.39015575, 0.29061745, 0.2883518 , 0.36039654, 0.26457296],\n",
       "        [0.39015575, 0.29061745, 0.2883518 , 0.36039654, 0.26457296],\n",
       "        [0.39015575, 0.29061745, 0.2883518 , 0.36039654, 0.26457296],\n",
       "        [0.39015575, 0.29061745, 0.2883518 , 0.36039654, 0.26457296],\n",
       "        [0.39015575, 0.29061745, 0.2883518 , 0.36039654, 0.26457296],\n",
       "        [0.39015575, 0.29061745, 0.2883518 , 0.36039654, 0.26457296]])}"
      ]
     },
     "execution_count": 91,
     "metadata": {},
     "output_type": "execute_result"
    },
    {
     "name": "stdout",
     "output_type": "stream",
     "text": [
      "time: 6.58 ms (started: 2021-02-18 16:12:31 -05:00)\n"
     ]
    }
   ],
   "source": [
    "inits"
   ]
  },
  {
   "cell_type": "code",
   "execution_count": 92,
   "metadata": {},
   "outputs": [
    {
     "name": "stdout",
     "output_type": "stream",
     "text": [
      "time: 688 µs (started: 2021-02-18 16:12:33 -05:00)\n"
     ]
    }
   ],
   "source": [
    "H0 = inits['H0']\n",
    "W0 = inits['W0']"
   ]
  },
  {
   "cell_type": "code",
   "execution_count": 94,
   "metadata": {},
   "outputs": [
    {
     "name": "stdout",
     "output_type": "stream",
     "text": [
      "2700 edges in network\n",
      "number of points is: 1440\n",
      "network shape is: (100, 100) and number of genes is: 100\n",
      "querying 1-100...done.\n",
      "Finished.\n",
      "2641 edges in network\n",
      "library size normalizing...\n",
      "2641 edges\n",
      "1.0 0.0 26316.0\n",
      "Starting objective:[6815.62207031]\n",
      "Starting fro:5315.622\n",
      "Starting LQF:1500.0\n",
      "0 6812.2217 inf\n",
      "30000 4282.6045 4.3901367\n",
      "60000 3997.2412 1.932373\n",
      "90000 3850.901 1.1123047\n",
      "120000 3762.4346 0.70751953\n",
      "150000 3703.1357 0.5\n",
      "180000 3660.3901 0.36669922\n",
      "210000 3628.163 0.2854004\n",
      "240000 3602.5786 0.23120117\n",
      "270000 3581.3481 0.1940918\n",
      "300000 3563.4255 0.16552734\n",
      "330000 3547.9802 0.14453125\n",
      "360000 3534.372 0.12866211\n",
      "390000 3522.237 0.115478516\n",
      "420000 3511.331 0.104003906\n",
      "450000 3501.4963 0.09301758\n",
      "480000 3492.7317 0.08325195\n",
      "510000 3484.7502 0.076660156\n",
      "540000 3477.4412 0.06933594\n",
      "570000 3470.7744 0.064453125\n",
      "600000 3464.617 0.05908203\n",
      "630000 3458.8955 0.05493164\n",
      "660000 3453.5735 0.05126953\n",
      "690000 3448.634 0.04736328\n",
      "720000 3444.0637 0.043945312\n",
      "750000 3439.803 0.041015625\n",
      "780000 3435.8047 0.03857422\n",
      "810000 3432.0664 0.036376953\n",
      "840000 3428.5378 0.034423828\n",
      "870000 3425.2126 0.032226562\n",
      "900000 3422.0615 0.030761719\n",
      "930000 3419.0652 0.029052734\n",
      "960000 3416.2654 0.026123047\n",
      "990000 3413.686 0.024902344\n",
      "time: 20min 30s (started: 2021-02-18 16:20:40 -05:00)\n"
     ]
    }
   ],
   "source": [
    "ntrials = 1\n",
    "times = np.zeros([len(X),ntrials])\n",
    "ix = 4\n",
    "for nt in range(ntrials):\n",
    "    operator = netNMFsc.netNMFGD(d=dimensions, \n",
    "                                 weight=0,n_inits=n_inits,\n",
    "                                 sparsity=0, max_iter=1000000,\n",
    "                                 n_jobs=n_jobs,test=True,\n",
    "                                 tol = 1e-10,W0=W0, H0=H0.T,distance='frobenius')\n",
    "    operator.X = X[ix]\n",
    "    operator.genes = genes\n",
    "    start = t.time()\n",
    "    operator.load_network(net=network_file_name,genenames=netgenes_file_name)\n",
    "    print('number of points is:', operator.X.shape[1])\n",
    "    print('network shape is:',operator.N.shape, 'and number of genes is:',len(operator.netgenes))\n",
    "\n",
    "    W,H,T,objs = operator.fit_transform()\n",
    "    end = t.time()\n",
    "    times[ix,nt] = end-start"
   ]
  },
  {
   "cell_type": "code",
   "execution_count": 95,
   "metadata": {},
   "outputs": [
    {
     "name": "stdout",
     "output_type": "stream",
     "text": [
      "time: 2.23 s (started: 2021-02-18 18:27:53 -05:00)\n"
     ]
    }
   ],
   "source": [
    "scipy.io.savemat('comparisons/runtime/python_runtimes_obj.mat',{'pytimes':T,'py_obj':objs})"
   ]
  },
  {
   "cell_type": "markdown",
   "metadata": {},
   "source": [
    "If not, data can be loaded into a numpy array using your favorite method based on the file format of your data. For example, if your data is saved as numpy arrays:"
   ]
  },
  {
   "cell_type": "code",
   "execution_count": 40,
   "metadata": {
    "scrolled": true
   },
   "outputs": [
    {
     "name": "stdout",
     "output_type": "stream",
     "text": [
      "time: 1.23 ms (started: 2021-02-16 12:34:55 -05:00)\n"
     ]
    }
   ],
   "source": [
    "scipy.io.savemat('python_times',{'pytimes':times})"
   ]
  },
  {
   "cell_type": "code",
   "execution_count": 5,
   "metadata": {},
   "outputs": [
    {
     "name": "stdout",
     "output_type": "stream",
     "text": [
      "time: 785 µs (started: 2021-02-01 12:41:58 -05:00)\n"
     ]
    }
   ],
   "source": [
    "export = dict(x=X, y=genes)\n"
   ]
  },
  {
   "cell_type": "markdown",
   "metadata": {},
   "source": [
    "This dataset contains 3 clusters of cells and over 90% of the values in the data are dropped out (zero)"
   ]
  },
  {
   "cell_type": "markdown",
   "metadata": {},
   "source": [
    "### 3. Run netNMFsc"
   ]
  },
  {
   "cell_type": "code",
   "execution_count": 41,
   "metadata": {},
   "outputs": [
    {
     "data": {
      "text/plain": [
       "array([[ 36.63730955,  39.83954549,  39.49892282,  41.19645476,\n",
       "         38.65527701],\n",
       "       [ 41.68475437,  44.67058134,  47.05867076,  45.27945542,\n",
       "         46.5540843 ],\n",
       "       [ 52.75361967,  53.81867003,  53.8071804 ,  54.15357375,\n",
       "         53.98605227],\n",
       "       [ 68.99698567,  69.19058371,  69.98774552,  69.97065735,\n",
       "         72.01587892],\n",
       "       [ 93.28419065,  92.54966497,  94.37296271, 100.29866314,\n",
       "         98.98863578]])"
      ]
     },
     "execution_count": 41,
     "metadata": {},
     "output_type": "execute_result"
    },
    {
     "name": "stdout",
     "output_type": "stream",
     "text": [
      "time: 2.11 ms (started: 2021-02-16 12:51:10 -05:00)\n"
     ]
    }
   ],
   "source": [
    "times"
   ]
  },
  {
   "cell_type": "code",
   "execution_count": 42,
   "metadata": {},
   "outputs": [
    {
     "data": {
      "text/plain": [
       "1613497889.926484"
      ]
     },
     "execution_count": 42,
     "metadata": {},
     "output_type": "execute_result"
    },
    {
     "name": "stdout",
     "output_type": "stream",
     "text": [
      "time: 1.82 ms (started: 2021-02-16 12:51:29 -05:00)\n"
     ]
    }
   ],
   "source": [
    "t.time()"
   ]
  },
  {
   "cell_type": "markdown",
   "metadata": {},
   "source": [
    "### 4. Downstream analysis"
   ]
  },
  {
   "cell_type": "code",
   "execution_count": 93,
   "metadata": {},
   "outputs": [
    {
     "name": "stdout",
     "output_type": "stream",
     "text": [
      "7 clusters with average silhouette score: 0.27001654166968475\n"
     ]
    },
    {
     "ename": "ValueError",
     "evalue": "too many values to unpack (expected 2)",
     "output_type": "error",
     "traceback": [
      "\u001b[0;31m---------------------------------------------------------------------------\u001b[0m",
      "\u001b[0;31mValueError\u001b[0m                                Traceback (most recent call last)",
      "\u001b[0;32m<ipython-input-93-99497b8cb9a9>\u001b[0m in \u001b[0;36m<module>\u001b[0;34m\u001b[0m\n\u001b[1;32m      5\u001b[0m \u001b[0mpca\u001b[0m\u001b[0;34m.\u001b[0m\u001b[0mfit\u001b[0m\u001b[0;34m(\u001b[0m\u001b[0mX\u001b[0m\u001b[0;34m)\u001b[0m\u001b[0;34m\u001b[0m\u001b[0;34m\u001b[0m\u001b[0m\n\u001b[1;32m      6\u001b[0m \u001b[0mcomponents\u001b[0m \u001b[0;34m=\u001b[0m \u001b[0mpca\u001b[0m\u001b[0;34m.\u001b[0m\u001b[0mcomponents_\u001b[0m\u001b[0;34m\u001b[0m\u001b[0;34m\u001b[0m\u001b[0m\n\u001b[0;32m----> 7\u001b[0;31m \u001b[0mk\u001b[0m\u001b[0;34m,\u001b[0m\u001b[0mclusters\u001b[0m \u001b[0;34m=\u001b[0m \u001b[0mplot\u001b[0m\u001b[0;34m.\u001b[0m\u001b[0mselect_clusters\u001b[0m\u001b[0;34m(\u001b[0m\u001b[0mcomponents\u001b[0m\u001b[0;34m)\u001b[0m\u001b[0;34m\u001b[0m\u001b[0;34m\u001b[0m\u001b[0m\n\u001b[0m\u001b[1;32m      8\u001b[0m \u001b[0mplot\u001b[0m\u001b[0;34m.\u001b[0m\u001b[0mtSNE\u001b[0m\u001b[0;34m(\u001b[0m\u001b[0mcomponents\u001b[0m\u001b[0;34m,\u001b[0m\u001b[0mclusters\u001b[0m\u001b[0;34m)\u001b[0m\u001b[0;34m\u001b[0m\u001b[0;34m\u001b[0m\u001b[0m\n\u001b[1;32m      9\u001b[0m \u001b[0mplt\u001b[0m\u001b[0;34m.\u001b[0m\u001b[0mtitle\u001b[0m\u001b[0;34m(\u001b[0m\u001b[0;34m'Before netNMF-sc, incorrect clustering :('\u001b[0m\u001b[0;34m)\u001b[0m\u001b[0;34m\u001b[0m\u001b[0;34m\u001b[0m\u001b[0m\n",
      "\u001b[0;31mValueError\u001b[0m: too many values to unpack (expected 2)"
     ]
    },
    {
     "name": "stdout",
     "output_type": "stream",
     "text": [
      "time: 809 ms (started: 2021-02-07 11:14:45 -05:00)\n"
     ]
    }
   ],
   "source": [
    "from netNMFsc import plot\n",
    "\n",
    "from sklearn.decomposition import PCA\n",
    "pca = PCA(n_components=dimensions)\n",
    "pca.fit(X)\n",
    "components = pca.components_\n",
    "k,clusters = plot.select_clusters(components)\n",
    "plot.tSNE(components,clusters)\n",
    "plt.title('Before netNMF-sc, incorrect clustering :(')\n",
    "plt.show()\n",
    "\n",
    "# Select number of cluster from d-dimensional cell matrix, H and plot tSNE projection\n",
    "k,clusters = plot.select_clusters(H)\n",
    "plot.tSNE(H,clusters)\n",
    "plt.title('After netNMF-sc, correct clustering! :)')\n",
    "plt.show()\n"
   ]
  },
  {
   "cell_type": "markdown",
   "metadata": {},
   "source": [
    "### Script for running netNMF-sc from the command line"
   ]
  },
  {
   "cell_type": "raw",
   "metadata": {},
   "source": [
    "python3 -m netNMFsc.run_netNMF-sc -x <path_to_10X_directory> --network <network_npy_file> --netgenes <network_gene_names_npy_file> --dimensions 10 --max_iters 100000 --direc <directory_to_save_output> --normalize 1 --method GD"
   ]
  },
  {
   "cell_type": "markdown",
   "metadata": {},
   "source": [
    "# Load R2Rmatlab comparison"
   ]
  },
  {
   "cell_type": "code",
   "execution_count": 69,
   "metadata": {
    "scrolled": true
   },
   "outputs": [
    {
     "name": "stdout",
     "output_type": "stream",
     "text": [
      "time: 1.42 ms (started: 2021-02-02 12:44:48 -05:00)\n"
     ]
    }
   ],
   "source": [
    "matlab = scipy.io.loadmat('/home/jay/ExtraDrive1/External/experiments/r2rilsexperiment/laplacian_regularization/R2Rembedding.mat')"
   ]
  },
  {
   "cell_type": "code",
   "execution_count": 70,
   "metadata": {},
   "outputs": [
    {
     "name": "stdout",
     "output_type": "stream",
     "text": [
      "time: 699 µs (started: 2021-02-02 12:44:49 -05:00)\n"
     ]
    }
   ],
   "source": [
    "r2r_embedding = matlab['Xnu']"
   ]
  },
  {
   "cell_type": "code",
   "execution_count": 102,
   "metadata": {},
   "outputs": [
    {
     "name": "stdout",
     "output_type": "stream",
     "text": [
      "7 clusters with average silhouette score: 0.27001654166968475\n",
      "2 clusters with average silhouette score: 0.4868879\n",
      "3 clusters with average silhouette score: 0.47229112812485846\n"
     ]
    },
    {
     "data": {
      "image/png": "[encoded data removed]",
      "text/plain": [
       "<Figure size 576x576 with 1 Axes>"
      ]
     },
     "metadata": {
      "needs_background": "light"
     },
     "output_type": "display_data"
    },
    {
     "data": {
      "image/png": "[encoded data removed]",
      "text/plain": [
       "<Figure size 576x576 with 1 Axes>"
      ]
     },
     "metadata": {
      "needs_background": "light"
     },
     "output_type": "display_data"
    },
    {
     "data": {
      "image/png": "[encoded data removed]",
      "text/plain": [
       "<Figure size 576x576 with 1 Axes>"
      ]
     },
     "metadata": {
      "needs_background": "light"
     },
     "output_type": "display_data"
    },
    {
     "name": "stdout",
     "output_type": "stream",
     "text": [
      "time: 4.52 s (started: 2021-02-07 15:01:14 -05:00)\n"
     ]
    }
   ],
   "source": [
    "from netNMFsc import plot\n",
    "\n",
    "from sklearn.decomposition import PCA\n",
    "pca = PCA(n_components=dimensions)\n",
    "pca.fit(X)\n",
    "components = pca.components_\n",
    "k,clusters,score = plot.select_clusters(components)\n",
    "plot.tSNE(components,clusters)\n",
    "plt.title('Before netNMF-sc: silhouette= '+str(score))\n",
    "plt.savefig('python_comp_Xpca.jpeg')\n",
    "\n",
    "\n",
    "# Select number of cluster from d-dimensional cell matrix, H and plot tSNE projection\n",
    "# k,clusters = plot.select_clusters(H)\n",
    "# plot.tSNE(H,clusters)\n",
    "# plt.title('After netNMF-sc, correct clustering! :)')\n",
    "# plt.show()\n",
    "k,clusters,score = plot.select_clusters(H)\n",
    "plot.tSNE(H,clusters)\n",
    "plt.title('After netNMF-sc: silhouette= '+str(score))\n",
    "plt.savefig('python_comp_Xnetnmfsc.jpeg')\n",
    "\n",
    "k,clusters,score = plot.select_clusters(r2r_embedding.T)\n",
    "plot.tSNE(r2r_embedding.T,clusters,)\n",
    "plt.title('After unmasked R2RNNMF: silhouette= '+str(score))\n",
    "plt.savefig('python_comp_XR2R.jpeg')"
   ]
  },
  {
   "cell_type": "code",
   "execution_count": 94,
   "metadata": {},
   "outputs": [
    {
     "name": "stdout",
     "output_type": "stream",
     "text": [
      "3 clusters with average silhouette score: 0.39337158\n"
     ]
    },
    {
     "data": {
      "image/png": "[encoded data removed]",
      "text/plain": [
       "<Figure size 576x576 with 1 Axes>"
      ]
     },
     "metadata": {
      "needs_background": "light"
     },
     "output_type": "display_data"
    },
    {
     "name": "stdout",
     "output_type": "stream",
     "text": [
      "time: 1.52 s (started: 2021-02-07 11:15:03 -05:00)\n"
     ]
    }
   ],
   "source": [
    "k,clusters,score = plot.select_clusters(H)\n",
    "plot.tSNE(H,clusters)\n",
    "plt.title('After netNMF-sc: silhouette= '+str(score))\n",
    "plt.savefig('python_comp_Xnetnmfsc.jpeg')"
   ]
  },
  {
   "cell_type": "code",
   "execution_count": 95,
   "metadata": {},
   "outputs": [
    {
     "name": "stdout",
     "output_type": "stream",
     "text": [
      "time: 1.96 ms (started: 2021-02-07 11:15:07 -05:00)\n"
     ]
    }
   ],
   "source": [
    "results_export = {'Wpy':W,'Hpy':H,'clusters':clusters}\n",
    "results_export['A'] = operator.N\n",
    "results_export['netgenes'] = operator.netgenes\n",
    "results_export['X'] = X\n",
    "results_export['Y'] = genes\n",
    "\n",
    "matlab = scipy.io.savemat('/home/jay/ExtraDrive1/External/experiments/r2rilsexperiment/laplacian_regularization/netnmf_results.mat',results_export)"
   ]
  },
  {
   "cell_type": "raw",
   "metadata": {},
   "source": [
    "clusters"
   ]
  },
  {
   "cell_type": "code",
   "execution_count": null,
   "metadata": {},
   "outputs": [],
   "source": []
  }
 ],
 "metadata": {
  "kernelspec": {
   "display_name": "Python 3",
   "language": "python",
   "name": "python3"
  },
  "language_info": {
   "codemirror_mode": {
    "name": "ipython",
    "version": 3
   },
   "file_extension": ".py",
   "mimetype": "text/x-python",
   "name": "python",
   "nbconvert_exporter": "python",
   "pygments_lexer": "ipython3",
   "version": "3.8.5"
  }
 },
 "nbformat": 4,
 "nbformat_minor": 2
}
